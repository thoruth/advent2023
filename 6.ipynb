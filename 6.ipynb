{
 "cells": [
  {
   "cell_type": "code",
   "execution_count": 1,
   "metadata": {},
   "outputs": [
    {
     "name": "stdout",
     "output_type": "stream",
     "text": [
      "['Time:        54     70     82     75', 'Distance:   239   1142   1295   1253']\n",
      "[239, 1142, 1295, 1253]\n",
      "800280\n",
      "45128024\n"
     ]
    }
   ],
   "source": [
    "test_input ='''Time:      7  15   30\n",
    "Distance:  9  40  200'''\n",
    "\n",
    "\n",
    "live_input ='''Time:        54     70     82     75\n",
    "Distance:   239   1142   1295   1253'''\n",
    "\n",
    "data = live_input.split('\\n')\n",
    "\n",
    "print(data)\n",
    "\n",
    "times = [ int(x) for x in data[0].split(\":\")[1].strip().split()]\n",
    "dists = [ int(x) for x in data[1].split(\":\")[1].strip().split()]\n",
    "print(dists)\n",
    "\n",
    "\n",
    "# x(t-x) -d=0\n",
    "# -x^2 + tx -d\n",
    "import math\n",
    "def egyenlet_gyokok(dist, time):\n",
    "   magic = time**2 - 4*dist\n",
    "   if magic < 0:\n",
    "       return 0\n",
    "   gyoktag = math.sqrt(magic)\n",
    "   a = (-time-gyoktag)/-2\n",
    "   b =  (-time+gyoktag)/-2\n",
    "   offset = 0\n",
    "   if a % 1==0:\n",
    "       offset +=1\n",
    "   if b%1 ==0:\n",
    "       offset +=1\n",
    "   if a < b:\n",
    "       return math.floor(b)-math.ceil(a) +1- offset\n",
    "   return math.floor(a) -math.ceil(b )+1-offset\n",
    "   \n",
    "\n",
    "\n",
    "res = 1\n",
    "for d,t in zip(dists, times):\n",
    "     res *= egyenlet_gyokok(d,t)\n",
    "print(res)\n",
    "\n",
    "\n",
    "masik = egyenlet_gyokok(239114212951253,54708275)\n",
    "print(masik)"
   ]
  },
  {
   "cell_type": "code",
   "execution_count": null,
   "metadata": {},
   "outputs": [],
   "source": []
  }
 ],
 "metadata": {
  "kernelspec": {
   "display_name": "Python 3",
   "language": "python",
   "name": "python3"
  },
  "language_info": {
   "codemirror_mode": {
    "name": "ipython",
    "version": 3
   },
   "file_extension": ".py",
   "mimetype": "text/x-python",
   "name": "python",
   "nbconvert_exporter": "python",
   "pygments_lexer": "ipython3",
   "version": "3.10.12"
  }
 },
 "nbformat": 4,
 "nbformat_minor": 2
}
