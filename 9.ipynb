{
 "cells": [
  {
   "cell_type": "code",
   "execution_count": 23,
   "metadata": {},
   "outputs": [],
   "source": [
    "test_input = '''0 3 6 9 12 15\n",
    "1 3 6 10 15 21\n",
    "10 13 16 21 30 45'''\n",
    "\n",
    "txt = \"9.txt\"\n",
    "# txt = \"8.test.txt\"\n",
    "with open(txt, \"r\") as f:\n",
    "    live_inpt = f.read()\n",
    "row = '1 3 6 10 15 21'\n",
    "\n",
    "\n",
    "start = [int(x) for x in row.split()]\n",
    "nums = start.copy()\n"
   ]
  },
  {
   "cell_type": "code",
   "execution_count": 24,
   "metadata": {},
   "outputs": [],
   "source": [
    "def full_zero(l):\n",
    "    for x in l:\n",
    "        if x!=0:\n",
    "            return False\n",
    "    return True"
   ]
  },
  {
   "cell_type": "code",
   "execution_count": 25,
   "metadata": {},
   "outputs": [],
   "source": [
    "res= [nums]\n",
    "done = False\n",
    "while not done:\n",
    "    diffs = [abs(nums[i] - nums[i-1]) for i in range(1, len(nums))]\n",
    "    res.append(diffs)\n",
    "    if full_zero(diffs):\n",
    "        done = True\n",
    "    else:\n",
    "        nums = diffs"
   ]
  },
  {
   "cell_type": "code",
   "execution_count": 27,
   "metadata": {},
   "outputs": [
    {
     "data": {
      "text/plain": [
       "28"
      ]
     },
     "execution_count": 27,
     "metadata": {},
     "output_type": "execute_result"
    }
   ],
   "source": [
    "def fill_bottom_up(res):\n",
    "    bottom_diff = 0\n",
    "    new_values = [0]\n",
    "    for i in range(len(res)-2, -1, -1):\n",
    "        top_left_value = res[i][-1]\n",
    "        new_diff = top_left_value+bottom_diff\n",
    "        new_values = [new_diff] + new_values\n",
    "        bottom_diff = new_diff\n",
    "    return new_values\n",
    "\n",
    "def hvalue(res):\n",
    "    return fill_bottom_up(res)[0]\n",
    "hvalue(res)"
   ]
  },
  {
   "cell_type": "code",
   "execution_count": 8,
   "metadata": {},
   "outputs": [
    {
     "data": {
      "text/plain": [
       "[False, False, False, False, False]"
      ]
     },
     "execution_count": 8,
     "metadata": {},
     "output_type": "execute_result"
    }
   ],
   "source": [
    "is_zero"
   ]
  },
  {
   "cell_type": "code",
   "execution_count": null,
   "metadata": {},
   "outputs": [],
   "source": []
  }
 ],
 "metadata": {
  "kernelspec": {
   "display_name": "Python 3",
   "language": "python",
   "name": "python3"
  },
  "language_info": {
   "codemirror_mode": {
    "name": "ipython",
    "version": 3
   },
   "file_extension": ".py",
   "mimetype": "text/x-python",
   "name": "python",
   "nbconvert_exporter": "python",
   "pygments_lexer": "ipython3",
   "version": "3.10.12"
  }
 },
 "nbformat": 4,
 "nbformat_minor": 2
}
