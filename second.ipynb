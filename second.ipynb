{
 "cells": [
  {
   "cell_type": "code",
   "execution_count": 2,
   "id": "ffeb05a7-77f7-455c-a5b9-6152ba8221d0",
   "metadata": {},
   "outputs": [],
   "source": [
    "import pandas"
   ]
  },
  {
   "cell_type": "code",
   "execution_count": 3,
   "id": "b24a6a34-b907-4980-a45f-6db2ca78d568",
   "metadata": {},
   "outputs": [],
   "source": [
    "test_lines = '''Game 1: 3 blue, 4 red; 1 red, 2 green, 6 blue; 2 green\n",
    "Game 2: 1 blue, 2 green; 3 green, 4 blue, 1 red; 1 green, 1 blue\n",
    "Game 3: 8 green, 6 blue, 20 red; 5 blue, 4 red, 13 green; 5 green, 1 red\n",
    "Game 4: 1 green, 3 red, 6 blue; 3 green, 6 red; 3 green, 15 blue, 14 red\n",
    "Game 5: 6 red, 1 blue, 3 green; 2 blue, 1 red, 2 green'''"
   ]
  },
  {
   "cell_type": "code",
   "execution_count": 4,
   "id": "dc368556-50d6-417c-a102-e27fe93544a0",
   "metadata": {},
   "outputs": [],
   "source": [
    "with open(\"second.txt\", \"r\") as f:\n",
    "    lines = f.read()"
   ]
  },
  {
   "cell_type": "code",
   "execution_count": 5,
   "metadata": {},
   "outputs": [],
   "source": [
    "def init_row(row):\n",
    "    inner_res = [tmp.strip() for tmp in row.split(',')]\n",
    "    red = 0\n",
    "    green = 0\n",
    "    blue = 0\n",
    "    for color_w_num in inner_res:\n",
    "        for color in [' red', ' green', ' blue']:\n",
    "            if color in color_w_num:\n",
    "                tmp = color_w_num.replace(color, '')\n",
    "                if color ==' red': \n",
    "                    red = int(tmp)\n",
    "                if color ==' green':        \n",
    "                    green = int(tmp)\n",
    "                if color ==' blue':        \n",
    "                    blue= int(tmp)\n",
    "    return red, green, blue\n"
   ]
  },
  {
   "cell_type": "code",
   "execution_count": 6,
   "id": "3e17600c-3e27-4380-a3f9-989a8836cbd4",
   "metadata": {},
   "outputs": [
    {
     "data": {
      "text/plain": [
       "2476"
      ]
     },
     "execution_count": 6,
     "metadata": {},
     "output_type": "execute_result"
    }
   ],
   "source": [
    "def parse_line_to_df(line):\n",
    "    res = line.split(':')\n",
    "\n",
    "    game = res[0]\n",
    "    df = pandas.DataFrame([ init_row(game) for game in res[1].split(';')])\n",
    "    df.columns = ['red', 'green', 'blue']\n",
    "    return df\n",
    "\n",
    "dfs = [parse_line_to_df(game) for game in lines.split('\\n')]\n",
    "\n",
    "config = (12,13,14)\n",
    "def validate(game_df, config):\n",
    "    orig_df = game_df.copy()\n",
    "    game_df = game_df[game_df.red <=config[0]]\n",
    "    game_df = game_df[game_df.green <=config[1]]\n",
    "    game_df = game_df[game_df.blue <=config[2]]\n",
    "    return len(game_df) == len(orig_df)\n",
    "\n",
    "def power(game_df):\n",
    "    red = game_df.red.max()\n",
    "    green = game_df.green.max()\n",
    "\n",
    "    blue = game_df.blue.max()\n",
    "    return red * green * blue\n",
    "\n",
    "final_res = 0\n",
    "for idx, df in enumerate(dfs):\n",
    "    if validate(df, config):\n",
    "        final_res += idx+1\n",
    "final_res"
   ]
  },
  {
   "cell_type": "code",
   "execution_count": 7,
   "id": "224e3b8a-850a-42a1-8ade-cc8759b88f0f",
   "metadata": {},
   "outputs": [
    {
     "data": {
      "text/plain": [
       "990"
      ]
     },
     "execution_count": 7,
     "metadata": {},
     "output_type": "execute_result"
    }
   ],
   "source": [
    "power(dfs[0])"
   ]
  },
  {
   "cell_type": "code",
   "execution_count": 8,
   "id": "36c56d0f-332f-484b-ba12-050a5fbc3699",
   "metadata": {},
   "outputs": [],
   "source": [
    "psumres = 0\n",
    "for idx, df in enumerate(dfs):\n",
    "    psumres += power(df)"
   ]
  },
  {
   "cell_type": "code",
   "execution_count": 9,
   "id": "834fef7f-9afc-4240-875d-b7956f5d6766",
   "metadata": {},
   "outputs": [
    {
     "data": {
      "text/plain": [
       "54911"
      ]
     },
     "execution_count": 9,
     "metadata": {},
     "output_type": "execute_result"
    }
   ],
   "source": [
    "psumres"
   ]
  },
  {
   "cell_type": "code",
   "execution_count": null,
   "id": "30399113-5c88-4823-95d2-df650d7939aa",
   "metadata": {},
   "outputs": [],
   "source": []
  },
  {
   "cell_type": "code",
   "execution_count": null,
   "id": "d0f2bd62-ac96-49df-b308-98bb81691f4e",
   "metadata": {},
   "outputs": [],
   "source": []
  }
 ],
 "metadata": {
  "kernelspec": {
   "display_name": "Python 3 (ipykernel)",
   "language": "python",
   "name": "python3"
  },
  "language_info": {
   "codemirror_mode": {
    "name": "ipython",
    "version": 3
   },
   "file_extension": ".py",
   "mimetype": "text/x-python",
   "name": "python",
   "nbconvert_exporter": "python",
   "pygments_lexer": "ipython3",
   "version": "3.10.12"
  }
 },
 "nbformat": 4,
 "nbformat_minor": 5
}
