{
 "cells": [
  {
   "cell_type": "code",
   "execution_count": 1,
   "metadata": {},
   "outputs": [],
   "source": [
    "test_input='''32T3K 765\n",
    "T55J5 684\n",
    "KK677 28\n",
    "KTJJT 220\n",
    "QQQJA 483'''"
   ]
  },
  {
   "cell_type": "code",
   "execution_count": 2,
   "metadata": {},
   "outputs": [],
   "source": [
    "\n",
    "\n",
    "txt = \"7.txt\"\n",
    "with open(txt, \"r\") as f:\n",
    "    live_input = f.read()\n"
   ]
  },
  {
   "cell_type": "code",
   "execution_count": 3,
   "metadata": {},
   "outputs": [],
   "source": [
    "# data = test_input.split('\\n')\n",
    "data = live_input.split('\\n')\n",
    "data = [x.strip().split() for x in data]"
   ]
  },
  {
   "cell_type": "code",
   "execution_count": 4,
   "metadata": {},
   "outputs": [
    {
     "data": {
      "text/plain": [
       "2"
      ]
     },
     "execution_count": 4,
     "metadata": {},
     "output_type": "execute_result"
    }
   ],
   "source": [
    "data\n",
    "\n",
    "def groupbycount(str_input):\n",
    "    res = {}\n",
    "    for char in str_input:\n",
    "        if char in res:\n",
    "            res[char] += 1\n",
    "        else:\n",
    "            res[char] = 1\n",
    "    return res\n",
    "groupbycount(data[0][0])\n",
    "\n",
    "def get_tier(str_input):\n",
    "    groups = groupbycount(str_input)\n",
    "    res = {1:0, 2:0, 3:0, 4:0, 5:0}\n",
    "    for card, count in groups.items():\n",
    "        res[count] +=1\n",
    "    if res[1]==5:\n",
    "        return 0\n",
    "    elif res[2]==1 and res[3]==0:\n",
    "        return 1\n",
    "    elif res[2]==2:\n",
    "        return 2\n",
    "    elif res[3]==1 and res[2]==0:\n",
    "        return 3\n",
    "    elif res[3]==1 and res[2]==1:\n",
    "        return 4\n",
    "    elif res[4]==1:\n",
    "        return 5\n",
    "    elif res[5]==1:\n",
    "        return 6\n",
    "  \n",
    "\n",
    "get_tier('3223K')"
   ]
  },
  {
   "cell_type": "code",
   "execution_count": 5,
   "metadata": {},
   "outputs": [
    {
     "data": {
      "text/plain": [
       "791414"
      ]
     },
     "execution_count": 5,
     "metadata": {},
     "output_type": "execute_result"
    }
   ],
   "source": [
    "cards = [2,3,4,5,6,7,8,9,'T','J','Q','K','A']\n",
    "single = {str(card): x+1 for x, card in enumerate(cards)}\n",
    "def convert_13_num_sys(input, map):\n",
    "    \n",
    "    return sum([map[card] * (13**(5-x)) for x,card in enumerate(input)])\n",
    "\n",
    "convert_13_num_sys('32T3K', single)"
   ]
  },
  {
   "cell_type": "code",
   "execution_count": 6,
   "metadata": {},
   "outputs": [],
   "source": [
    "import pandas as pd"
   ]
  },
  {
   "cell_type": "code",
   "execution_count": 7,
   "metadata": {},
   "outputs": [
    {
     "data": {
      "text/html": [
       "<div>\n",
       "<style scoped>\n",
       "    .dataframe tbody tr th:only-of-type {\n",
       "        vertical-align: middle;\n",
       "    }\n",
       "\n",
       "    .dataframe tbody tr th {\n",
       "        vertical-align: top;\n",
       "    }\n",
       "\n",
       "    .dataframe thead th {\n",
       "        text-align: right;\n",
       "    }\n",
       "</style>\n",
       "<table border=\"1\" class=\"dataframe\">\n",
       "  <thead>\n",
       "    <tr style=\"text-align: right;\">\n",
       "      <th></th>\n",
       "      <th>index</th>\n",
       "      <th>raw</th>\n",
       "      <th>bid</th>\n",
       "      <th>sys13</th>\n",
       "      <th>tier</th>\n",
       "      <th>rank</th>\n",
       "      <th>bid_rank</th>\n",
       "    </tr>\n",
       "  </thead>\n",
       "  <tbody>\n",
       "    <tr>\n",
       "      <th>0</th>\n",
       "      <td>102</td>\n",
       "      <td>JJJJJ</td>\n",
       "      <td>628</td>\n",
       "      <td>4022330</td>\n",
       "      <td>6</td>\n",
       "      <td>1000</td>\n",
       "      <td>628000</td>\n",
       "    </tr>\n",
       "    <tr>\n",
       "      <th>1</th>\n",
       "      <td>875</td>\n",
       "      <td>AAAA7</td>\n",
       "      <td>638</td>\n",
       "      <td>5228938</td>\n",
       "      <td>5</td>\n",
       "      <td>999</td>\n",
       "      <td>637362</td>\n",
       "    </tr>\n",
       "    <tr>\n",
       "      <th>2</th>\n",
       "      <td>750</td>\n",
       "      <td>AAAA2</td>\n",
       "      <td>57</td>\n",
       "      <td>5228873</td>\n",
       "      <td>5</td>\n",
       "      <td>998</td>\n",
       "      <td>56886</td>\n",
       "    </tr>\n",
       "    <tr>\n",
       "      <th>3</th>\n",
       "      <td>874</td>\n",
       "      <td>AAAQA</td>\n",
       "      <td>769</td>\n",
       "      <td>5228691</td>\n",
       "      <td>5</td>\n",
       "      <td>997</td>\n",
       "      <td>766693</td>\n",
       "    </tr>\n",
       "    <tr>\n",
       "      <th>4</th>\n",
       "      <td>500</td>\n",
       "      <td>AAA5A</td>\n",
       "      <td>994</td>\n",
       "      <td>5227508</td>\n",
       "      <td>5</td>\n",
       "      <td>996</td>\n",
       "      <td>990024</td>\n",
       "    </tr>\n",
       "    <tr>\n",
       "      <th>...</th>\n",
       "      <td>...</td>\n",
       "      <td>...</td>\n",
       "      <td>...</td>\n",
       "      <td>...</td>\n",
       "      <td>...</td>\n",
       "      <td>...</td>\n",
       "      <td>...</td>\n",
       "    </tr>\n",
       "    <tr>\n",
       "      <th>995</th>\n",
       "      <td>601</td>\n",
       "      <td>2Q634</td>\n",
       "      <td>383</td>\n",
       "      <td>696826</td>\n",
       "      <td>0</td>\n",
       "      <td>5</td>\n",
       "      <td>1915</td>\n",
       "    </tr>\n",
       "    <tr>\n",
       "      <th>996</th>\n",
       "      <td>435</td>\n",
       "      <td>2T764</td>\n",
       "      <td>202</td>\n",
       "      <td>642408</td>\n",
       "      <td>0</td>\n",
       "      <td>4</td>\n",
       "      <td>808</td>\n",
       "    </tr>\n",
       "    <tr>\n",
       "      <th>997</th>\n",
       "      <td>501</td>\n",
       "      <td>26Q9K</td>\n",
       "      <td>816</td>\n",
       "      <td>539773</td>\n",
       "      <td>0</td>\n",
       "      <td>3</td>\n",
       "      <td>2448</td>\n",
       "    </tr>\n",
       "    <tr>\n",
       "      <th>998</th>\n",
       "      <td>658</td>\n",
       "      <td>24JK6</td>\n",
       "      <td>53</td>\n",
       "      <td>481039</td>\n",
       "      <td>0</td>\n",
       "      <td>2</td>\n",
       "      <td>106</td>\n",
       "    </tr>\n",
       "    <tr>\n",
       "      <th>999</th>\n",
       "      <td>698</td>\n",
       "      <td>2495T</td>\n",
       "      <td>207</td>\n",
       "      <td>475345</td>\n",
       "      <td>0</td>\n",
       "      <td>1</td>\n",
       "      <td>207</td>\n",
       "    </tr>\n",
       "  </tbody>\n",
       "</table>\n",
       "<p>1000 rows × 7 columns</p>\n",
       "</div>"
      ],
      "text/plain": [
       "     index    raw  bid    sys13  tier  rank  bid_rank\n",
       "0      102  JJJJJ  628  4022330     6  1000    628000\n",
       "1      875  AAAA7  638  5228938     5   999    637362\n",
       "2      750  AAAA2   57  5228873     5   998     56886\n",
       "3      874  AAAQA  769  5228691     5   997    766693\n",
       "4      500  AAA5A  994  5227508     5   996    990024\n",
       "..     ...    ...  ...      ...   ...   ...       ...\n",
       "995    601  2Q634  383   696826     0     5      1915\n",
       "996    435  2T764  202   642408     0     4       808\n",
       "997    501  26Q9K  816   539773     0     3      2448\n",
       "998    658  24JK6   53   481039     0     2       106\n",
       "999    698  2495T  207   475345     0     1       207\n",
       "\n",
       "[1000 rows x 7 columns]"
      ]
     },
     "execution_count": 7,
     "metadata": {},
     "output_type": "execute_result"
    }
   ],
   "source": [
    "df = pd.DataFrame(data, columns=['raw', 'bid'])\n",
    "df = df.astype({'bid':'int'})\n",
    "sys13 = [convert_13_num_sys(x[0], single) for x in data]\n",
    "df['sys13'] = sys13\n",
    "tier = [get_tier(x[0]) for x in data]\n",
    "df['tier'] = tier\n",
    "df.sort_values(by=['tier', 'sys13'], ascending=False, inplace=True)\n",
    "df = df.reset_index()\n",
    "df['rank']= list(range(len(df), 0, -1))\n",
    "df['bid_rank'] = df['rank'] * df['bid']\n",
    "df"
   ]
  },
  {
   "cell_type": "code",
   "execution_count": 8,
   "metadata": {},
   "outputs": [
    {
     "data": {
      "text/plain": [
       "252295678"
      ]
     },
     "execution_count": 8,
     "metadata": {},
     "output_type": "execute_result"
    }
   ],
   "source": [
    "df['bid_rank'].sum()"
   ]
  },
  {
   "cell_type": "code",
   "execution_count": null,
   "metadata": {},
   "outputs": [],
   "source": []
  },
  {
   "cell_type": "code",
   "execution_count": 9,
   "metadata": {},
   "outputs": [
    {
     "data": {
      "text/plain": [
       "1"
      ]
     },
     "execution_count": 9,
     "metadata": {},
     "output_type": "execute_result"
    }
   ],
   "source": [
    "def get_jcount(cards):\n",
    "    return  sum([1 if card=='J'else 0 for card in cards])\n",
    "get_jcount('24JK6')"
   ]
  },
  {
   "cell_type": "code",
   "execution_count": 10,
   "metadata": {},
   "outputs": [
    {
     "data": {
      "text/plain": [
       "5"
      ]
     },
     "execution_count": 10,
     "metadata": {},
     "output_type": "execute_result"
    }
   ],
   "source": [
    "import itertools\n",
    "def jvariables(cards):\n",
    "    jcount = get_jcount(cards)\n",
    "    if jcount==0:   \n",
    "        return [cards]\n",
    "    elif jcount==5:\n",
    "        return [cards]\n",
    "    without_j = cards.replace('J', '')\n",
    "    res = [ without_j+ ''.join(combination) for combination in list(set(itertools.combinations_with_replacement(list(without_j), r=jcount)))]\n",
    "    return res\n",
    "\n",
    "def magic_tier(cards):\n",
    "    return max([get_tier(x) for x in jvariables(cards)])\n",
    "\n",
    "magic_tier('8J9JJ')\n"
   ]
  },
  {
   "cell_type": "code",
   "execution_count": 11,
   "metadata": {},
   "outputs": [
    {
     "data": {
      "text/html": [
       "<div>\n",
       "<style scoped>\n",
       "    .dataframe tbody tr th:only-of-type {\n",
       "        vertical-align: middle;\n",
       "    }\n",
       "\n",
       "    .dataframe tbody tr th {\n",
       "        vertical-align: top;\n",
       "    }\n",
       "\n",
       "    .dataframe thead th {\n",
       "        text-align: right;\n",
       "    }\n",
       "</style>\n",
       "<table border=\"1\" class=\"dataframe\">\n",
       "  <thead>\n",
       "    <tr style=\"text-align: right;\">\n",
       "      <th></th>\n",
       "      <th>index</th>\n",
       "      <th>raw</th>\n",
       "      <th>bid</th>\n",
       "      <th>sys13</th>\n",
       "      <th>tier</th>\n",
       "      <th>rank</th>\n",
       "      <th>bid_rank</th>\n",
       "    </tr>\n",
       "  </thead>\n",
       "  <tbody>\n",
       "    <tr>\n",
       "      <th>0</th>\n",
       "      <td>914</td>\n",
       "      <td>AJAJA</td>\n",
       "      <td>140</td>\n",
       "      <td>4884269</td>\n",
       "      <td>6</td>\n",
       "      <td>1000</td>\n",
       "      <td>140000</td>\n",
       "    </tr>\n",
       "    <tr>\n",
       "      <th>1</th>\n",
       "      <td>602</td>\n",
       "      <td>KJKJK</td>\n",
       "      <td>724</td>\n",
       "      <td>4510766</td>\n",
       "      <td>6</td>\n",
       "      <td>999</td>\n",
       "      <td>723276</td>\n",
       "    </tr>\n",
       "    <tr>\n",
       "      <th>2</th>\n",
       "      <td>850</td>\n",
       "      <td>QQQJQ</td>\n",
       "      <td>641</td>\n",
       "      <td>4422873</td>\n",
       "      <td>6</td>\n",
       "      <td>998</td>\n",
       "      <td>639718</td>\n",
       "    </tr>\n",
       "    <tr>\n",
       "      <th>3</th>\n",
       "      <td>564</td>\n",
       "      <td>QQQJJ</td>\n",
       "      <td>682</td>\n",
       "      <td>4422743</td>\n",
       "      <td>6</td>\n",
       "      <td>997</td>\n",
       "      <td>679954</td>\n",
       "    </tr>\n",
       "    <tr>\n",
       "      <th>4</th>\n",
       "      <td>281</td>\n",
       "      <td>QJJJJ</td>\n",
       "      <td>700</td>\n",
       "      <td>4115163</td>\n",
       "      <td>6</td>\n",
       "      <td>996</td>\n",
       "      <td>697200</td>\n",
       "    </tr>\n",
       "    <tr>\n",
       "      <th>...</th>\n",
       "      <td>...</td>\n",
       "      <td>...</td>\n",
       "      <td>...</td>\n",
       "      <td>...</td>\n",
       "      <td>...</td>\n",
       "      <td>...</td>\n",
       "      <td>...</td>\n",
       "    </tr>\n",
       "    <tr>\n",
       "      <th>995</th>\n",
       "      <td>940</td>\n",
       "      <td>35687</td>\n",
       "      <td>442</td>\n",
       "      <td>1271309</td>\n",
       "      <td>0</td>\n",
       "      <td>5</td>\n",
       "      <td>2210</td>\n",
       "    </tr>\n",
       "    <tr>\n",
       "      <th>996</th>\n",
       "      <td>601</td>\n",
       "      <td>2Q634</td>\n",
       "      <td>383</td>\n",
       "      <td>1070498</td>\n",
       "      <td>0</td>\n",
       "      <td>4</td>\n",
       "      <td>1532</td>\n",
       "    </tr>\n",
       "    <tr>\n",
       "      <th>997</th>\n",
       "      <td>435</td>\n",
       "      <td>2T764</td>\n",
       "      <td>202</td>\n",
       "      <td>1044641</td>\n",
       "      <td>0</td>\n",
       "      <td>3</td>\n",
       "      <td>606</td>\n",
       "    </tr>\n",
       "    <tr>\n",
       "      <th>998</th>\n",
       "      <td>501</td>\n",
       "      <td>26Q9K</td>\n",
       "      <td>816</td>\n",
       "      <td>939796</td>\n",
       "      <td>0</td>\n",
       "      <td>2</td>\n",
       "      <td>1632</td>\n",
       "    </tr>\n",
       "    <tr>\n",
       "      <th>999</th>\n",
       "      <td>698</td>\n",
       "      <td>2495T</td>\n",
       "      <td>207</td>\n",
       "      <td>877578</td>\n",
       "      <td>0</td>\n",
       "      <td>1</td>\n",
       "      <td>207</td>\n",
       "    </tr>\n",
       "  </tbody>\n",
       "</table>\n",
       "<p>1000 rows × 7 columns</p>\n",
       "</div>"
      ],
      "text/plain": [
       "     index    raw  bid    sys13  tier  rank  bid_rank\n",
       "0      914  AJAJA  140  4884269     6  1000    140000\n",
       "1      602  KJKJK  724  4510766     6   999    723276\n",
       "2      850  QQQJQ  641  4422873     6   998    639718\n",
       "3      564  QQQJJ  682  4422743     6   997    679954\n",
       "4      281  QJJJJ  700  4115163     6   996    697200\n",
       "..     ...    ...  ...      ...   ...   ...       ...\n",
       "995    940  35687  442  1271309     0     5      2210\n",
       "996    601  2Q634  383  1070498     0     4      1532\n",
       "997    435  2T764  202  1044641     0     3       606\n",
       "998    501  26Q9K  816   939796     0     2      1632\n",
       "999    698  2495T  207   877578     0     1       207\n",
       "\n",
       "[1000 rows x 7 columns]"
      ]
     },
     "execution_count": 11,
     "metadata": {},
     "output_type": "execute_result"
    }
   ],
   "source": [
    "new_cards = ['J',2,3,4,5,6,7,8,9,'T','Q','K','A']\n",
    "new_single = {str(card): x+1 for x, card in enumerate(new_cards)}\n",
    "\n",
    "ddf = pd.DataFrame(data, columns=['raw', 'bid'])\n",
    "ddf = ddf.astype({'bid':'int'})\n",
    "sys13 = [convert_13_num_sys(x[0], new_single) for x in data]\n",
    "ddf['sys13'] = sys13\n",
    "tier = [magic_tier(x[0]) for x in data]\n",
    "ddf['tier'] = tier\n",
    "ddf.sort_values(by=['tier', 'sys13'], ascending=False, inplace=True)\n",
    "ddf = ddf.reset_index()\n",
    "ddf['rank']= list(range(len(ddf), 0, -1))\n",
    "ddf['bid_rank'] = ddf['rank'] * ddf['bid']\n",
    "\n",
    "\n",
    "ddf"
   ]
  },
  {
   "cell_type": "code",
   "execution_count": 12,
   "metadata": {},
   "outputs": [
    {
     "data": {
      "text/plain": [
       "250577259"
      ]
     },
     "execution_count": 12,
     "metadata": {},
     "output_type": "execute_result"
    }
   ],
   "source": [
    "ddf['bid_rank'].sum()"
   ]
  },
  {
   "cell_type": "code",
   "execution_count": null,
   "metadata": {},
   "outputs": [],
   "source": []
  }
 ],
 "metadata": {
  "kernelspec": {
   "display_name": "Python 3",
   "language": "python",
   "name": "python3"
  },
  "language_info": {
   "codemirror_mode": {
    "name": "ipython",
    "version": 3
   },
   "file_extension": ".py",
   "mimetype": "text/x-python",
   "name": "python",
   "nbconvert_exporter": "python",
   "pygments_lexer": "ipython3",
   "version": "3.10.12"
  }
 },
 "nbformat": 4,
 "nbformat_minor": 2
}
