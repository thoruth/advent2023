{
 "cells": [
  {
   "cell_type": "code",
   "execution_count": 20,
   "metadata": {},
   "outputs": [],
   "source": [
    "\n",
    "test_input = '''Card 1: 41 48 83 86 17 | 83 86  6 31 17  9 48 53\n",
    "Card 2: 13 32 20 16 61 | 61 30 68 82 17 32 24 19\n",
    "Card 3:  1 21 53 59 44 | 69 82 63 72 16 21 14  1\n",
    "Card 4: 41 92 73 84 69 | 59 84 76 51 58  5 54 83\n",
    "Card 5: 87 83 26 28 32 | 88 30 70 12 93 22 82 36\n",
    "Card 6: 31 18 13 56 72 | 74 77 10 23 35 67 36 11'''\n",
    "\n",
    "\n",
    "with open(\"forth.txt\", \"r\") as f:\n",
    "    live_inputs = f.read()\n",
    "\n",
    "def parse_line_to_df(line):\n",
    "    res = line.split(':').strip()\n"
   ]
  },
  {
   "cell_type": "code",
   "execution_count": 43,
   "metadata": {},
   "outputs": [
    {
     "data": {
      "text/plain": [
       "6283755"
      ]
     },
     "execution_count": 43,
     "metadata": {},
     "output_type": "execute_result"
    }
   ],
   "source": [
    "def calc_row(line,copy_cards, line_number):\n",
    "    row_part = line.split(':')\n",
    "    card = row_part[0]\n",
    "    row_data = row_part[1].strip()\n",
    "    number_data = row_data.split(' | ')\n",
    "    winner_number = [int(num) for num in number_data[0].split()]\n",
    "    play_number = [int(num) for num in number_data[1].split()]\n",
    "    res = len(set(winner_number).intersection(play_number))\n",
    "    if res ==0:\n",
    "        return 0, copy_cards\n",
    "    for idx in range(line_number+1, line_number+1+res):\n",
    "        if idx not in copy_cards:\n",
    "            continue\n",
    "        copy_cards[idx] += copy_cards[line_number]\n",
    "    return 2**(res-1), copy_cards\n",
    "\n",
    "data = live_inputs.split('\\n')\n",
    "copy_cards = {idx:1 for idx in range(1, len(data)+1)}\n",
    "\n",
    "for idx, line in enumerate(data):\n",
    "    res, copy_cards =calc_row(line,copy_cards, idx+1) \n",
    "sum(copy_cards.values())"
   ]
  },
  {
   "cell_type": "code",
   "execution_count": 35,
   "metadata": {},
   "outputs": [
    {
     "data": {
      "text/plain": [
       "{1: 1, 2: 2, 3: 3, 4: 4, 5: 4, 6: 1}"
      ]
     },
     "execution_count": 35,
     "metadata": {},
     "output_type": "execute_result"
    }
   ],
   "source": [
    "copy_cards"
   ]
  },
  {
   "cell_type": "code",
   "execution_count": null,
   "metadata": {},
   "outputs": [],
   "source": []
  }
 ],
 "metadata": {
  "kernelspec": {
   "display_name": "Python 3",
   "language": "python",
   "name": "python3"
  },
  "language_info": {
   "codemirror_mode": {
    "name": "ipython",
    "version": 3
   },
   "file_extension": ".py",
   "mimetype": "text/x-python",
   "name": "python",
   "nbconvert_exporter": "python",
   "pygments_lexer": "ipython3",
   "version": "3.10.12"
  }
 },
 "nbformat": 4,
 "nbformat_minor": 2
}
