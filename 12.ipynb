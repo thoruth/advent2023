{
 "cells": [
  {
   "cell_type": "code",
   "execution_count": null,
   "metadata": {},
   "outputs": [],
   "source": [
    "import re"
   ]
  },
  {
   "cell_type": "code",
   "execution_count": null,
   "metadata": {},
   "outputs": [],
   "source": [
    "from functools import cache\n",
    "\n",
    "@cache\n",
    "def recurse(lava, springs, result=0):\n",
    "    if not springs:\n",
    "        return 1 if '#' not in lava else 0\n",
    "    current, springs = springs[0], springs[1:]\n",
    "    itermax = len(lava) - sum(springs) - len(springs) - current + 1 #faster exit condition\n",
    "    for i in range(itermax):\n",
    "        if \"#\"  == lava[i]: #even faster exit\n",
    "            break\n",
    "        if (nxt := i + current) <= len(lava) and '.' not in lava[i : nxt] and lava[nxt : nxt + 1] != \"#\":\n",
    "            res = recurse(lava[nxt + 1:], springs)\n",
    "            result += res\n",
    "    return result\n",
    "\n",
    "\n",
    "\n",
    "txt='12.txt'\n",
    "with open(\"12.txt\", \"r\") as file:\n",
    "    data = [x.split() for x in file.read().splitlines()]\n",
    "    p1, p2 = 0, 0\n",
    "    for e, (lava, springs) in enumerate(data):\n",
    "        p1 += recurse(lava, (springs := tuple(map(int, springs.split(\",\")))))\n",
    "        p2 += recurse(\"?\".join([lava] * 5), springs * 5)\n",
    "    print(p1, p2)\n"
   ]
  },
  {
   "cell_type": "code",
   "execution_count": null,
   "metadata": {},
   "outputs": [],
   "source": []
  }
 ],
 "metadata": {
  "kernelspec": {
   "display_name": "Python 3",
   "language": "python",
   "name": "python3"
  },
  "language_info": {
   "codemirror_mode": {
    "name": "ipython",
    "version": 3
   },
   "file_extension": ".py",
   "mimetype": "text/x-python",
   "name": "python",
   "nbconvert_exporter": "python",
   "pygments_lexer": "ipython3",
   "version": "3.10.12"
  }
 },
 "nbformat": 4,
 "nbformat_minor": 2
}
