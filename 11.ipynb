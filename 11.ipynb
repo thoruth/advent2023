{
 "cells": [
  {
   "cell_type": "code",
   "execution_count": 45,
   "metadata": {},
   "outputs": [],
   "source": [
    "test_txt ='''...#......\n",
    ".......#..\n",
    "#.........\n",
    "..........\n",
    "......#...\n",
    ".#........\n",
    ".........#\n",
    "..........\n",
    ".......#..\n",
    "#...#.....'''\n",
    "\n",
    "txt='11.txt'\n",
    "with open(txt, \"r\") as f:\n",
    "    live_input = f.read()"
   ]
  },
  {
   "cell_type": "code",
   "execution_count": 46,
   "metadata": {},
   "outputs": [],
   "source": [
    "import numpy as np"
   ]
  },
  {
   "cell_type": "code",
   "execution_count": 47,
   "metadata": {},
   "outputs": [
    {
     "data": {
      "text/plain": [
       "array([['.', '.', '.', '#', '.', '.', '.', '.', '.', '.'],\n",
       "       ['.', '.', '.', '.', '.', '.', '.', '#', '.', '.'],\n",
       "       ['#', '.', '.', '.', '.', '.', '.', '.', '.', '.'],\n",
       "       ['.', '.', '.', '.', '.', '.', '.', '.', '.', '.'],\n",
       "       ['.', '.', '.', '.', '.', '.', '#', '.', '.', '.'],\n",
       "       ['.', '#', '.', '.', '.', '.', '.', '.', '.', '.'],\n",
       "       ['.', '.', '.', '.', '.', '.', '.', '.', '.', '#'],\n",
       "       ['.', '.', '.', '.', '.', '.', '.', '.', '.', '.'],\n",
       "       ['.', '.', '.', '.', '.', '.', '.', '#', '.', '.'],\n",
       "       ['#', '.', '.', '.', '#', '.', '.', '.', '.', '.']], dtype='<U1')"
      ]
     },
     "execution_count": 47,
     "metadata": {},
     "output_type": "execute_result"
    }
   ],
   "source": [
    "input_txt= test_txt\n",
    "list2d = np.array([list(x) for x in input_txt.split('\\n')])\n",
    "list2d\n"
   ]
  },
  {
   "cell_type": "code",
   "execution_count": 48,
   "metadata": {},
   "outputs": [
    {
     "data": {
      "text/plain": [
       "374"
      ]
     },
     "execution_count": 48,
     "metadata": {},
     "output_type": "execute_result"
    }
   ],
   "source": [
    "\n",
    "\n",
    "\n",
    "def expand(list2d):\n",
    "    res = []\n",
    "    for row in list2d:\n",
    "        if set(row)==set('.'):\n",
    "            res.append(row)\n",
    "        res.append(row)\n",
    "    return res\n",
    "\n",
    "expanded = np.array(expand(np.array(expand(list2d)).transpose())).transpose()\n",
    "planets = list(zip(*np.where(expanded=='#')))\n",
    "\n",
    "res = {}\n",
    "for planet_1 in planets :\n",
    "    for planet_2 in planets:\n",
    "        if planet_1 == planet_2:\n",
    "            continue\n",
    "        key = (planet_1,planet_2) if planet_1<planet_2 else (planet_2,planet_1)\n",
    "        res[key] = abs(planet_1[0]-planet_2[0])+abs(planet_1[1]-planet_2[1])\n",
    "\n",
    "sum(res.values())\n",
    "        "
   ]
  },
  {
   "cell_type": "code",
   "execution_count": 55,
   "metadata": {},
   "outputs": [],
   "source": [
    "def expand2(list2d, scale):\n",
    "    res = []\n",
    "    for row in list2d:\n",
    "        if set(row)==set('.'):\n",
    "            expanded_row =[scale for _ in range(row.shape[0])]\n",
    "            res.append(expanded_row)\n",
    "        res.append(row)\n",
    "    return res\n",
    "\n",
    "scale = 100\n",
    "expanded = np.array(expand2(\n",
    "        np.array(expand2(list2d, scale)).transpose(),\n",
    "            scale\n",
    "        )\n",
    "    ).transpose()"
   ]
  },
  {
   "cell_type": "code",
   "execution_count": 57,
   "metadata": {},
   "outputs": [
    {
     "data": {
      "text/plain": [
       "array([['1', '1', '1', '#', '1', '1', '1', '1', '1', '1'],\n",
       "       ['1', '1', '1', '1', '1', '1', '1', '#', '1', '1'],\n",
       "       ['#', '1', '1', '1', '1', '1', '1', '1', '1', '1'],\n",
       "       ['100', '100', '100', '100', '100', '100', '100', '100', '100',\n",
       "        '100'],\n",
       "       ['1', '1', '1', '1', '1', '1', '1', '1', '1', '1'],\n",
       "       ['1', '1', '1', '1', '1', '1', '#', '1', '1', '1'],\n",
       "       ['1', '#', '1', '1', '1', '1', '1', '1', '1', '1'],\n",
       "       ['1', '1', '1', '1', '1', '1', '1', '1', '1', '#'],\n",
       "       ['100', '100', '100', '100', '100', '100', '100', '100', '100',\n",
       "        '100'],\n",
       "       ['1', '1', '1', '1', '1', '1', '1', '1', '1', '1'],\n",
       "       ['1', '1', '1', '1', '1', '1', '1', '#', '1', '1'],\n",
       "       ['#', '1', '1', '1', '#', '1', '1', '1', '1', '1']], dtype='<U21')"
      ]
     },
     "execution_count": 57,
     "metadata": {},
     "output_type": "execute_result"
    }
   ],
   "source": [
    "expanded[expanded == '.'] = 1\n",
    "\n",
    "expanded"
   ]
  },
  {
   "cell_type": "code",
   "execution_count": 58,
   "metadata": {},
   "outputs": [
    {
     "data": {
      "text/plain": [
       "[(0, 4), (1, 9), (2, 0), (5, 8), (6, 1), (7, 12), (10, 9), (11, 0), (11, 5)]"
      ]
     },
     "execution_count": 58,
     "metadata": {},
     "output_type": "execute_result"
    }
   ],
   "source": [
    "planets"
   ]
  },
  {
   "cell_type": "code",
   "execution_count": null,
   "metadata": {},
   "outputs": [],
   "source": [
    "def trace_path(planet1, planet_2, ):\n",
    "    x1, y1 = planet1\n",
    "    x2, y2 = planet_2\n",
    "\n",
    "    "
   ]
  }
 ],
 "metadata": {
  "kernelspec": {
   "display_name": "Python 3",
   "language": "python",
   "name": "python3"
  },
  "language_info": {
   "codemirror_mode": {
    "name": "ipython",
    "version": 3
   },
   "file_extension": ".py",
   "mimetype": "text/x-python",
   "name": "python",
   "nbconvert_exporter": "python",
   "pygments_lexer": "ipython3",
   "version": "3.10.12"
  }
 },
 "nbformat": 4,
 "nbformat_minor": 2
}
