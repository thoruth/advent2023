{
 "cells": [
  {
   "cell_type": "code",
   "execution_count": 2,
   "metadata": {},
   "outputs": [],
   "source": [
    "import matplotlib.pyplot as plt\n"
   ]
  },
  {
   "cell_type": "code",
   "execution_count": 3,
   "metadata": {},
   "outputs": [],
   "source": [
    "test_input ='''seeds: 79 14 55 13\n",
    "\n",
    "seed-to-soil map:\n",
    "50 98 2\n",
    "52 50 48\n",
    "\n",
    "soil-to-fertilizer map:\n",
    "0 15 37\n",
    "37 52 2\n",
    "39 0 15\n",
    "\n",
    "fertilizer-to-water map:\n",
    "49 53 8\n",
    "0 11 42\n",
    "42 0 7\n",
    "57 7 4\n",
    "\n",
    "water-to-light map:\n",
    "88 18 7\n",
    "18 25 70\n",
    "\n",
    "light-to-temperature map:\n",
    "45 77 23\n",
    "81 45 19\n",
    "68 64 13\n",
    "\n",
    "temperature-to-humidity map:\n",
    "0 69 1\n",
    "1 0 69\n",
    "\n",
    "humidity-to-location map:\n",
    "60 56 37\n",
    "56 93 4'''"
   ]
  },
  {
   "cell_type": "code",
   "execution_count": 4,
   "metadata": {},
   "outputs": [],
   "source": [
    "\n",
    "with open(\"fifth.txt\", \"r\") as f:\n",
    "    live_input = f.read()"
   ]
  },
  {
   "cell_type": "code",
   "execution_count": 5,
   "metadata": {},
   "outputs": [
    {
     "data": {
      "text/plain": [
       "[4106085912,\n",
       " 135215567,\n",
       " 529248892,\n",
       " 159537194,\n",
       " 1281459911,\n",
       " 114322341,\n",
       " 1857095529,\n",
       " 814584370,\n",
       " 2999858074,\n",
       " 50388481,\n",
       " 3362084117,\n",
       " 37744902,\n",
       " 3471634344,\n",
       " 240133599,\n",
       " 3737494864,\n",
       " 346615684,\n",
       " 1585884643,\n",
       " 142273098,\n",
       " 917169654,\n",
       " 286257440]"
      ]
     },
     "execution_count": 5,
     "metadata": {},
     "output_type": "execute_result"
    }
   ],
   "source": [
    "def parse(input_str):\n",
    "    return {x.split(':')[0].replace(' map', ''): [[int(z) for z in y.split()] for y in x.split(':')[1].strip().split('\\n')] for x in input_str.split('\\n\\n')}\n",
    "\n",
    "parsed_data = parse(live_input)\n",
    "parsed_data\n",
    "seeds = parsed_data['seeds'][0]\n",
    "del parsed_data['seeds']\n",
    "seeds"
   ]
  },
  {
   "cell_type": "code",
   "execution_count": 6,
   "metadata": {},
   "outputs": [
    {
     "data": {
      "text/plain": [
       "[[1640984363, 3136305987, 77225710],\n",
       " [3469528922, 1857474741, 56096642],\n",
       " [278465165, 2901870617, 105516220],\n",
       " [1442950910, 1913571383, 198033453],\n",
       " [463085535, 1458252975, 13696838],\n",
       " [1718210073, 1686050230, 171424511],\n",
       " [383981385, 3064707638, 71598349],\n",
       " [1267048154, 3759577328, 175902756],\n",
       " [3262934306, 1479455614, 206594616],\n",
       " [2493001016, 200414015, 157177749],\n",
       " [3885112776, 411057950, 157348766],\n",
       " [4042461542, 1181162257, 199039568],\n",
       " [476782373, 2111604836, 790265781],\n",
       " [455579734, 1471949813, 7505801],\n",
       " [1889634584, 3213531697, 546045631],\n",
       " [4241501110, 357591764, 53466186],\n",
       " [3525625564, 3935480084, 359487212],\n",
       " [2650178765, 568406716, 612755541],\n",
       " [200414015, 1380201825, 78051150],\n",
       " [2435680215, 3007386837, 57320801]]"
      ]
     },
     "execution_count": 6,
     "metadata": {},
     "output_type": "execute_result"
    }
   ],
   "source": [
    "parsed_data['seed-to-soil']\n"
   ]
  },
  {
   "cell_type": "code",
   "execution_count": 7,
   "metadata": {},
   "outputs": [],
   "source": [
    "parsed_data['seed-to-soil']\n",
    "\n",
    "def convert(map, input_value):\n",
    "    for rule in map:\n",
    "        rule_start = rule[1]\n",
    "        rule_end = rule[1] + rule[2]\n",
    "        off_set = rule[0] - rule[1]\n",
    "        if input_value >= rule_start and input_value < rule_end:\n",
    "            return input_value + off_set\n",
    "    return input_value\n",
    "\n",
    "order = ['seed-to-soil', 'soil-to-fertilizer', 'fertilizer-to-water', 'water-to-light', 'light-to-temperature', 'temperature-to-humidity', 'humidity-to-location']\n",
    "\n",
    "def convert_chain(allmap, input_value):\n",
    "    current = input_value\n",
    "    for step in order:\n",
    "        current = convert(allmap[step], current)\n",
    "    return current\n"
   ]
  },
  {
   "cell_type": "code",
   "execution_count": 8,
   "metadata": {},
   "outputs": [
    {
     "data": {
      "text/plain": [
       "dict_keys(['seed-to-soil', 'soil-to-fertilizer', 'fertilizer-to-water', 'water-to-light', 'light-to-temperature', 'temperature-to-humidity', 'humidity-to-location'])"
      ]
     },
     "execution_count": 8,
     "metadata": {},
     "output_type": "execute_result"
    }
   ],
   "source": [
    "parsed_data.keys()"
   ]
  },
  {
   "cell_type": "code",
   "execution_count": 9,
   "metadata": {},
   "outputs": [
    {
     "data": {
      "text/plain": [
       "2519653027"
      ]
     },
     "execution_count": 9,
     "metadata": {},
     "output_type": "execute_result"
    }
   ],
   "source": [
    "seeds\n",
    "convert_chain(parsed_data, 79)"
   ]
  },
  {
   "cell_type": "code",
   "execution_count": 10,
   "metadata": {},
   "outputs": [
    {
     "data": {
      "text/plain": [
       "324724204"
      ]
     },
     "execution_count": 10,
     "metadata": {},
     "output_type": "execute_result"
    }
   ],
   "source": [
    "min(convert_chain(parsed_data, seed)  for seed in seeds)"
   ]
  },
  {
   "cell_type": "code",
   "execution_count": 11,
   "metadata": {},
   "outputs": [],
   "source": [
    "import tqdm"
   ]
  },
  {
   "cell_type": "code",
   "execution_count": 12,
   "metadata": {},
   "outputs": [
    {
     "name": "stdout",
     "output_type": "stream",
     "text": [
      "start complex seeds\n"
     ]
    },
    {
     "name": "stderr",
     "output_type": "stream",
     "text": [
      "100%|██████████| 10/10 [00:00<00:00, 82727.89it/s]\n"
     ]
    },
    {
     "data": {
      "text/plain": [
       "[(4106085912, 4241301478),\n",
       " (529248892, 688786085),\n",
       " (1281459911, 1395782251),\n",
       " (1857095529, 2671679898),\n",
       " (2999858074, 3050246554),\n",
       " (3362084117, 3399829018),\n",
       " (3471634344, 3711767942),\n",
       " (3737494864, 4084110547),\n",
       " (1585884643, 1728157740),\n",
       " (917169654, 1203427093)]"
      ]
     },
     "execution_count": 12,
     "metadata": {},
     "output_type": "execute_result"
    }
   ],
   "source": [
    "complex_seeds = set()\n",
    "print('start complex seeds')\n",
    "intervals = []\n",
    "for idx in tqdm.tqdm(range(0,len(seeds), 2)):\n",
    "    intervals.append((seeds[idx], seeds[idx]+seeds[idx+1]-1))\n",
    "    # for actual_seed in range(seeds[idx], seeds[idx]+seeds[idx+1]):\n",
    "    #     complex_seeds.add(actual_seed)\n",
    "intervals\n",
    "# final_complex_seeds = list(complex_seeds)\n",
    "\n",
    "# print('start chain')\n",
    "\n",
    "# min(convert_chain(parsed_data, seed)  for seed in tqdm.tqdm(final_complex_seeds))"
   ]
  },
  {
   "cell_type": "code",
   "execution_count": 13,
   "metadata": {},
   "outputs": [],
   "source": [
    "def is_overlap(a, b):\n",
    "    return a[0] < b[1] and b[0] < a[1]"
   ]
  },
  {
   "cell_type": "code",
   "execution_count": 14,
   "metadata": {},
   "outputs": [],
   "source": [
    "for interval in intervals:\n",
    "    for other_interval in intervals:\n",
    "        if interval == other_interval:\n",
    "            continue\n",
    "        if is_overlap(interval, other_interval):\n",
    "            print(interval, other_interval)"
   ]
  },
  {
   "cell_type": "code",
   "execution_count": 15,
   "metadata": {},
   "outputs": [
    {
     "data": {
      "text/plain": [
       "4241301478"
      ]
     },
     "execution_count": 15,
     "metadata": {},
     "output_type": "execute_result"
    }
   ],
   "source": [
    "max([x[1] for x in intervals])"
   ]
  },
  {
   "cell_type": "code",
   "execution_count": 16,
   "metadata": {},
   "outputs": [
    {
     "data": {
      "image/png": "[encoded data removed]",
      "text/plain": [
       "<Figure size 640x480 with 1 Axes>"
      ]
     },
     "metadata": {},
     "output_type": "display_data"
    }
   ],
   "source": [
    "\n",
    "i = 1\n",
    "for interval in intervals:\n",
    "    step_number = 10\n",
    "    step = int(interval[1] /step_number)\n",
    "    plot_x_interval = []\n",
    "    plot_y_interval = []\n",
    "    step = int(interval[1]-interval[0] /step_number)\n",
    "    for x in list(range(interval[0], interval[1], step))+[interval[1]]:\n",
    "        plot_x_interval.append(x)\n",
    "        plot_y_interval.append(i)\n",
    "    plt.scatter(plot_x_interval, plot_y_interval)\n",
    "    i += 1"
   ]
  },
  {
   "cell_type": "code",
   "execution_count": 17,
   "metadata": {},
   "outputs": [
    {
     "data": {
      "text/plain": [
       "529248892"
      ]
     },
     "execution_count": 17,
     "metadata": {},
     "output_type": "execute_result"
    }
   ],
   "source": [
    "actual_min = min(x[0] for x in intervals)\n",
    "actual_min"
   ]
  },
  {
   "cell_type": "code",
   "execution_count": 18,
   "metadata": {},
   "outputs": [],
   "source": [
    "actual_max = max(x[1] for x in intervals)"
   ]
  },
  {
   "cell_type": "code",
   "execution_count": 19,
   "metadata": {},
   "outputs": [],
   "source": [
    "diff = actual_max - actual_min"
   ]
  },
  {
   "cell_type": "code",
   "execution_count": 20,
   "metadata": {},
   "outputs": [
    {
     "data": {
      "text/plain": [
       "37120"
      ]
     },
     "execution_count": 20,
     "metadata": {},
     "output_type": "execute_result"
    }
   ],
   "source": [
    "step_number = 100000\n",
    "step = int(diff /step_number)\n",
    "step"
   ]
  },
  {
   "cell_type": "code",
   "execution_count": null,
   "metadata": {},
   "outputs": [],
   "source": []
  },
  {
   "cell_type": "code",
   "execution_count": 21,
   "metadata": {},
   "outputs": [
    {
     "data": {
      "text/plain": [
       "[<matplotlib.lines.Line2D at 0x11af01ea0>]"
      ]
     },
     "execution_count": 21,
     "metadata": {},
     "output_type": "execute_result"
    },
    {
     "data": {
      "image/png": "[encoded data removed]",
      "text/plain": [
       "<Figure size 640x480 with 1 Axes>"
      ]
     },
     "metadata": {},
     "output_type": "display_data"
    }
   ],
   "source": [
    "plot_x = []\n",
    "plot_y = []\n",
    "filtered_x = []\n",
    "filtered_y = []\n",
    "for x in list(range(actual_min, actual_max, step))+[actual_max]:\n",
    "\n",
    "\n",
    "    yy = convert_chain(parsed_data, x)\n",
    "    plot_x.append(x)\n",
    "    plot_y.append(yy)\n",
    "    for interval in intervals: \n",
    "        if x in range(interval[0], interval[1]+1):\n",
    "\n",
    "            filtered_x.append(x)\n",
    "            filtered_y.append(yy)\n",
    "\n",
    "plt.plot(plot_x, plot_y)"
   ]
  },
  {
   "cell_type": "code",
   "execution_count": 22,
   "metadata": {},
   "outputs": [
    {
     "data": {
      "text/plain": [
       "<matplotlib.collections.PathCollection at 0x11ad5a830>"
      ]
     },
     "execution_count": 22,
     "metadata": {},
     "output_type": "execute_result"
    },
    {
     "data": {
      "image/png": "[encoded data removed]",
      "text/plain": [
       "<Figure size 640x480 with 1 Axes>"
      ]
     },
     "metadata": {},
     "output_type": "display_data"
    }
   ],
   "source": [
    "\n",
    "plt.scatter(filtered_x, filtered_y)"
   ]
  },
  {
   "cell_type": "code",
   "execution_count": 23,
   "metadata": {},
   "outputs": [],
   "source": [
    "import pandas as pd\n",
    "\n",
    "df = pd.DataFrame({'x': filtered_x, 'y': filtered_y})\n"
   ]
  },
  {
   "cell_type": "code",
   "execution_count": 24,
   "metadata": {},
   "outputs": [
    {
     "data": {
      "text/plain": [
       "37120"
      ]
     },
     "execution_count": 24,
     "metadata": {},
     "output_type": "execute_result"
    }
   ],
   "source": [
    "\n",
    "\n",
    "step"
   ]
  },
  {
   "cell_type": "code",
   "execution_count": null,
   "metadata": {},
   "outputs": [],
   "source": []
  },
  {
   "cell_type": "code",
   "execution_count": 26,
   "metadata": {},
   "outputs": [
    {
     "data": {
      "text/html": [
       "<div>\n",
       "<style scoped>\n",
       "    .dataframe tbody tr th:only-of-type {\n",
       "        vertical-align: middle;\n",
       "    }\n",
       "\n",
       "    .dataframe tbody tr th {\n",
       "        vertical-align: top;\n",
       "    }\n",
       "\n",
       "    .dataframe thead th {\n",
       "        text-align: right;\n",
       "    }\n",
       "</style>\n",
       "<table border=\"1\" class=\"dataframe\">\n",
       "  <thead>\n",
       "    <tr style=\"text-align: right;\">\n",
       "      <th></th>\n",
       "      <th>x</th>\n",
       "      <th>y</th>\n",
       "      <th>xx</th>\n",
       "      <th>yy</th>\n",
       "    </tr>\n",
       "  </thead>\n",
       "  <tbody>\n",
       "    <tr>\n",
       "      <th>815</th>\n",
       "      <td>559501692</td>\n",
       "      <td>104080767</td>\n",
       "      <td>0</td>\n",
       "      <td>0</td>\n",
       "    </tr>\n",
       "    <tr>\n",
       "      <th>816</th>\n",
       "      <td>559538812</td>\n",
       "      <td>104117887</td>\n",
       "      <td>37120</td>\n",
       "      <td>37120</td>\n",
       "    </tr>\n",
       "    <tr>\n",
       "      <th>817</th>\n",
       "      <td>559575932</td>\n",
       "      <td>104155007</td>\n",
       "      <td>74240</td>\n",
       "      <td>74240</td>\n",
       "    </tr>\n",
       "    <tr>\n",
       "      <th>818</th>\n",
       "      <td>559613052</td>\n",
       "      <td>104192127</td>\n",
       "      <td>111360</td>\n",
       "      <td>111360</td>\n",
       "    </tr>\n",
       "    <tr>\n",
       "      <th>819</th>\n",
       "      <td>559650172</td>\n",
       "      <td>104229247</td>\n",
       "      <td>148480</td>\n",
       "      <td>148480</td>\n",
       "    </tr>\n",
       "    <tr>\n",
       "      <th>820</th>\n",
       "      <td>559687292</td>\n",
       "      <td>104266367</td>\n",
       "      <td>185600</td>\n",
       "      <td>185600</td>\n",
       "    </tr>\n",
       "    <tr>\n",
       "      <th>821</th>\n",
       "      <td>559724412</td>\n",
       "      <td>104303487</td>\n",
       "      <td>222720</td>\n",
       "      <td>222720</td>\n",
       "    </tr>\n",
       "    <tr>\n",
       "      <th>822</th>\n",
       "      <td>559761532</td>\n",
       "      <td>104340607</td>\n",
       "      <td>259840</td>\n",
       "      <td>259840</td>\n",
       "    </tr>\n",
       "    <tr>\n",
       "      <th>823</th>\n",
       "      <td>559798652</td>\n",
       "      <td>104377727</td>\n",
       "      <td>296960</td>\n",
       "      <td>296960</td>\n",
       "    </tr>\n",
       "    <tr>\n",
       "      <th>824</th>\n",
       "      <td>559835772</td>\n",
       "      <td>104414847</td>\n",
       "      <td>334080</td>\n",
       "      <td>334080</td>\n",
       "    </tr>\n",
       "    <tr>\n",
       "      <th>825</th>\n",
       "      <td>559872892</td>\n",
       "      <td>104451967</td>\n",
       "      <td>371200</td>\n",
       "      <td>371200</td>\n",
       "    </tr>\n",
       "    <tr>\n",
       "      <th>826</th>\n",
       "      <td>559910012</td>\n",
       "      <td>104489087</td>\n",
       "      <td>408320</td>\n",
       "      <td>408320</td>\n",
       "    </tr>\n",
       "    <tr>\n",
       "      <th>827</th>\n",
       "      <td>559947132</td>\n",
       "      <td>104526207</td>\n",
       "      <td>445440</td>\n",
       "      <td>445440</td>\n",
       "    </tr>\n",
       "    <tr>\n",
       "      <th>828</th>\n",
       "      <td>559984252</td>\n",
       "      <td>104563327</td>\n",
       "      <td>482560</td>\n",
       "      <td>482560</td>\n",
       "    </tr>\n",
       "    <tr>\n",
       "      <th>829</th>\n",
       "      <td>560021372</td>\n",
       "      <td>104600447</td>\n",
       "      <td>519680</td>\n",
       "      <td>519680</td>\n",
       "    </tr>\n",
       "    <tr>\n",
       "      <th>830</th>\n",
       "      <td>560058492</td>\n",
       "      <td>104637567</td>\n",
       "      <td>556800</td>\n",
       "      <td>556800</td>\n",
       "    </tr>\n",
       "    <tr>\n",
       "      <th>831</th>\n",
       "      <td>560095612</td>\n",
       "      <td>104674687</td>\n",
       "      <td>593920</td>\n",
       "      <td>593920</td>\n",
       "    </tr>\n",
       "    <tr>\n",
       "      <th>832</th>\n",
       "      <td>560132732</td>\n",
       "      <td>104711807</td>\n",
       "      <td>631040</td>\n",
       "      <td>631040</td>\n",
       "    </tr>\n",
       "    <tr>\n",
       "      <th>833</th>\n",
       "      <td>560169852</td>\n",
       "      <td>104748927</td>\n",
       "      <td>668160</td>\n",
       "      <td>668160</td>\n",
       "    </tr>\n",
       "    <tr>\n",
       "      <th>834</th>\n",
       "      <td>560206972</td>\n",
       "      <td>104786047</td>\n",
       "      <td>705280</td>\n",
       "      <td>705280</td>\n",
       "    </tr>\n",
       "    <tr>\n",
       "      <th>835</th>\n",
       "      <td>560244092</td>\n",
       "      <td>104823167</td>\n",
       "      <td>742400</td>\n",
       "      <td>742400</td>\n",
       "    </tr>\n",
       "    <tr>\n",
       "      <th>836</th>\n",
       "      <td>560281212</td>\n",
       "      <td>104860287</td>\n",
       "      <td>779520</td>\n",
       "      <td>779520</td>\n",
       "    </tr>\n",
       "    <tr>\n",
       "      <th>837</th>\n",
       "      <td>560318332</td>\n",
       "      <td>104897407</td>\n",
       "      <td>816640</td>\n",
       "      <td>816640</td>\n",
       "    </tr>\n",
       "    <tr>\n",
       "      <th>60183</th>\n",
       "      <td>4148226172</td>\n",
       "      <td>104905383</td>\n",
       "      <td>3588724480</td>\n",
       "      <td>824616</td>\n",
       "    </tr>\n",
       "    <tr>\n",
       "      <th>60184</th>\n",
       "      <td>4148263292</td>\n",
       "      <td>104942503</td>\n",
       "      <td>3588761600</td>\n",
       "      <td>861736</td>\n",
       "    </tr>\n",
       "    <tr>\n",
       "      <th>60185</th>\n",
       "      <td>4148300412</td>\n",
       "      <td>104979623</td>\n",
       "      <td>3588798720</td>\n",
       "      <td>898856</td>\n",
       "    </tr>\n",
       "    <tr>\n",
       "      <th>60186</th>\n",
       "      <td>4148337532</td>\n",
       "      <td>105016743</td>\n",
       "      <td>3588835840</td>\n",
       "      <td>935976</td>\n",
       "    </tr>\n",
       "    <tr>\n",
       "      <th>60187</th>\n",
       "      <td>4148374652</td>\n",
       "      <td>105053863</td>\n",
       "      <td>3588872960</td>\n",
       "      <td>973096</td>\n",
       "    </tr>\n",
       "    <tr>\n",
       "      <th>60188</th>\n",
       "      <td>4148411772</td>\n",
       "      <td>105090983</td>\n",
       "      <td>3588910080</td>\n",
       "      <td>1010216</td>\n",
       "    </tr>\n",
       "    <tr>\n",
       "      <th>60189</th>\n",
       "      <td>4148448892</td>\n",
       "      <td>105128103</td>\n",
       "      <td>3588947200</td>\n",
       "      <td>1047336</td>\n",
       "    </tr>\n",
       "    <tr>\n",
       "      <th>60190</th>\n",
       "      <td>4148486012</td>\n",
       "      <td>105165223</td>\n",
       "      <td>3588984320</td>\n",
       "      <td>1084456</td>\n",
       "    </tr>\n",
       "    <tr>\n",
       "      <th>60191</th>\n",
       "      <td>4148523132</td>\n",
       "      <td>105202343</td>\n",
       "      <td>3589021440</td>\n",
       "      <td>1121576</td>\n",
       "    </tr>\n",
       "    <tr>\n",
       "      <th>60192</th>\n",
       "      <td>4148560252</td>\n",
       "      <td>105239463</td>\n",
       "      <td>3589058560</td>\n",
       "      <td>1158696</td>\n",
       "    </tr>\n",
       "    <tr>\n",
       "      <th>60193</th>\n",
       "      <td>4148597372</td>\n",
       "      <td>105276583</td>\n",
       "      <td>3589095680</td>\n",
       "      <td>1195816</td>\n",
       "    </tr>\n",
       "    <tr>\n",
       "      <th>60194</th>\n",
       "      <td>4148634492</td>\n",
       "      <td>105313703</td>\n",
       "      <td>3589132800</td>\n",
       "      <td>1232936</td>\n",
       "    </tr>\n",
       "    <tr>\n",
       "      <th>60195</th>\n",
       "      <td>4148671612</td>\n",
       "      <td>105350823</td>\n",
       "      <td>3589169920</td>\n",
       "      <td>1270056</td>\n",
       "    </tr>\n",
       "    <tr>\n",
       "      <th>60196</th>\n",
       "      <td>4148708732</td>\n",
       "      <td>105387943</td>\n",
       "      <td>3589207040</td>\n",
       "      <td>1307176</td>\n",
       "    </tr>\n",
       "    <tr>\n",
       "      <th>60197</th>\n",
       "      <td>4148745852</td>\n",
       "      <td>105425063</td>\n",
       "      <td>3589244160</td>\n",
       "      <td>1344296</td>\n",
       "    </tr>\n",
       "    <tr>\n",
       "      <th>60198</th>\n",
       "      <td>4148782972</td>\n",
       "      <td>105462183</td>\n",
       "      <td>3589281280</td>\n",
       "      <td>1381416</td>\n",
       "    </tr>\n",
       "    <tr>\n",
       "      <th>60199</th>\n",
       "      <td>4148820092</td>\n",
       "      <td>105499303</td>\n",
       "      <td>3589318400</td>\n",
       "      <td>1418536</td>\n",
       "    </tr>\n",
       "    <tr>\n",
       "      <th>60200</th>\n",
       "      <td>4148857212</td>\n",
       "      <td>105536423</td>\n",
       "      <td>3589355520</td>\n",
       "      <td>1455656</td>\n",
       "    </tr>\n",
       "    <tr>\n",
       "      <th>60201</th>\n",
       "      <td>4148894332</td>\n",
       "      <td>105573543</td>\n",
       "      <td>3589392640</td>\n",
       "      <td>1492776</td>\n",
       "    </tr>\n",
       "    <tr>\n",
       "      <th>60202</th>\n",
       "      <td>4148931452</td>\n",
       "      <td>105610663</td>\n",
       "      <td>3589429760</td>\n",
       "      <td>1529896</td>\n",
       "    </tr>\n",
       "    <tr>\n",
       "      <th>60203</th>\n",
       "      <td>4148968572</td>\n",
       "      <td>105647783</td>\n",
       "      <td>3589466880</td>\n",
       "      <td>1567016</td>\n",
       "    </tr>\n",
       "    <tr>\n",
       "      <th>60204</th>\n",
       "      <td>4149005692</td>\n",
       "      <td>105684903</td>\n",
       "      <td>3589504000</td>\n",
       "      <td>1604136</td>\n",
       "    </tr>\n",
       "    <tr>\n",
       "      <th>60205</th>\n",
       "      <td>4149042812</td>\n",
       "      <td>105722023</td>\n",
       "      <td>3589541120</td>\n",
       "      <td>1641256</td>\n",
       "    </tr>\n",
       "    <tr>\n",
       "      <th>60206</th>\n",
       "      <td>4149079932</td>\n",
       "      <td>105759143</td>\n",
       "      <td>3589578240</td>\n",
       "      <td>1678376</td>\n",
       "    </tr>\n",
       "    <tr>\n",
       "      <th>60207</th>\n",
       "      <td>4149117052</td>\n",
       "      <td>105796263</td>\n",
       "      <td>3589615360</td>\n",
       "      <td>1715496</td>\n",
       "    </tr>\n",
       "    <tr>\n",
       "      <th>60208</th>\n",
       "      <td>4149154172</td>\n",
       "      <td>105833383</td>\n",
       "      <td>3589652480</td>\n",
       "      <td>1752616</td>\n",
       "    </tr>\n",
       "    <tr>\n",
       "      <th>60209</th>\n",
       "      <td>4149191292</td>\n",
       "      <td>105870503</td>\n",
       "      <td>3589689600</td>\n",
       "      <td>1789736</td>\n",
       "    </tr>\n",
       "  </tbody>\n",
       "</table>\n",
       "</div>"
      ],
      "text/plain": [
       "                x          y          xx       yy\n",
       "815     559501692  104080767           0        0\n",
       "816     559538812  104117887       37120    37120\n",
       "817     559575932  104155007       74240    74240\n",
       "818     559613052  104192127      111360   111360\n",
       "819     559650172  104229247      148480   148480\n",
       "820     559687292  104266367      185600   185600\n",
       "821     559724412  104303487      222720   222720\n",
       "822     559761532  104340607      259840   259840\n",
       "823     559798652  104377727      296960   296960\n",
       "824     559835772  104414847      334080   334080\n",
       "825     559872892  104451967      371200   371200\n",
       "826     559910012  104489087      408320   408320\n",
       "827     559947132  104526207      445440   445440\n",
       "828     559984252  104563327      482560   482560\n",
       "829     560021372  104600447      519680   519680\n",
       "830     560058492  104637567      556800   556800\n",
       "831     560095612  104674687      593920   593920\n",
       "832     560132732  104711807      631040   631040\n",
       "833     560169852  104748927      668160   668160\n",
       "834     560206972  104786047      705280   705280\n",
       "835     560244092  104823167      742400   742400\n",
       "836     560281212  104860287      779520   779520\n",
       "837     560318332  104897407      816640   816640\n",
       "60183  4148226172  104905383  3588724480   824616\n",
       "60184  4148263292  104942503  3588761600   861736\n",
       "60185  4148300412  104979623  3588798720   898856\n",
       "60186  4148337532  105016743  3588835840   935976\n",
       "60187  4148374652  105053863  3588872960   973096\n",
       "60188  4148411772  105090983  3588910080  1010216\n",
       "60189  4148448892  105128103  3588947200  1047336\n",
       "60190  4148486012  105165223  3588984320  1084456\n",
       "60191  4148523132  105202343  3589021440  1121576\n",
       "60192  4148560252  105239463  3589058560  1158696\n",
       "60193  4148597372  105276583  3589095680  1195816\n",
       "60194  4148634492  105313703  3589132800  1232936\n",
       "60195  4148671612  105350823  3589169920  1270056\n",
       "60196  4148708732  105387943  3589207040  1307176\n",
       "60197  4148745852  105425063  3589244160  1344296\n",
       "60198  4148782972  105462183  3589281280  1381416\n",
       "60199  4148820092  105499303  3589318400  1418536\n",
       "60200  4148857212  105536423  3589355520  1455656\n",
       "60201  4148894332  105573543  3589392640  1492776\n",
       "60202  4148931452  105610663  3589429760  1529896\n",
       "60203  4148968572  105647783  3589466880  1567016\n",
       "60204  4149005692  105684903  3589504000  1604136\n",
       "60205  4149042812  105722023  3589541120  1641256\n",
       "60206  4149079932  105759143  3589578240  1678376\n",
       "60207  4149117052  105796263  3589615360  1715496\n",
       "60208  4149154172  105833383  3589652480  1752616\n",
       "60209  4149191292  105870503  3589689600  1789736"
      ]
     },
     "execution_count": 26,
     "metadata": {},
     "output_type": "execute_result"
    }
   ],
   "source": [
    "ddf = df.sort_values('y').head(50)\n",
    "\n",
    "ddf['xx'] = ddf['x']- ddf.iloc[0].x\n",
    "ddf['yy'] = ddf['y']- ddf.iloc[0].y\n",
    "\n",
    "ddf\n",
    "\n",
    "\n"
   ]
  },
  {
   "cell_type": "code",
   "execution_count": 27,
   "metadata": {},
   "outputs": [
    {
     "data": {
      "text/plain": [
       "559501692"
      ]
     },
     "execution_count": 27,
     "metadata": {},
     "output_type": "execute_result"
    }
   ],
   "source": [
    "ddf.iloc[0].x"
   ]
  },
  {
   "cell_type": "code",
   "execution_count": 28,
   "metadata": {},
   "outputs": [
    {
     "data": {
      "text/plain": [
       "37120"
      ]
     },
     "execution_count": 28,
     "metadata": {},
     "output_type": "execute_result"
    }
   ],
   "source": [
    "step"
   ]
  },
  {
   "cell_type": "code",
   "execution_count": 29,
   "metadata": {},
   "outputs": [],
   "source": [
    "def in_solutions(x, intervals):\n",
    "    for interval in intervals:\n",
    "        if x in range(interval[0], interval[1]+1):\n",
    "            return True\n",
    "    return False"
   ]
  },
  {
   "cell_type": "code",
   "execution_count": 30,
   "metadata": {},
   "outputs": [
    {
     "data": {
      "text/plain": [
       "<matplotlib.collections.PathCollection at 0x10aa236a0>"
      ]
     },
     "execution_count": 30,
     "metadata": {},
     "output_type": "execute_result"
    },
    {
     "data": {
      "image/png": "[encoded data removed]",
      "text/plain": [
       "<Figure size 640x480 with 1 Axes>"
      ]
     },
     "metadata": {},
     "output_type": "display_data"
    }
   ],
   "source": [
    "\n",
    "low_pointx = []\n",
    "low_pointy = []\n",
    "center = ddf.iloc[0].x\n",
    "range_num = step\n",
    "\n",
    "\n",
    "magic_step = int(range_num / 1000)\n",
    "for x in list(range(center-range_num, center+range_num, magic_step))+[center+range_num]:\n",
    "\n",
    "    if not in_solutions(x, intervals):\n",
    "        continue\n",
    "    yy = convert_chain(parsed_data, x)\n",
    "    low_pointx.append(x)\n",
    "    low_pointy.append(yy)\n",
    "\n",
    "plt.scatter(low_pointx, low_pointy)\n"
   ]
  },
  {
   "cell_type": "code",
   "execution_count": 31,
   "metadata": {},
   "outputs": [],
   "source": [
    "magic_x = low_pointx[low_pointy.index(min(low_pointy))]"
   ]
  },
  {
   "cell_type": "code",
   "execution_count": 32,
   "metadata": {},
   "outputs": [
    {
     "data": {
      "text/plain": [
       "559491804"
      ]
     },
     "execution_count": 32,
     "metadata": {},
     "output_type": "execute_result"
    }
   ],
   "source": [
    "magic_x"
   ]
  },
  {
   "cell_type": "code",
   "execution_count": 33,
   "metadata": {},
   "outputs": [
    {
     "data": {
      "text/plain": [
       "37"
      ]
     },
     "execution_count": 33,
     "metadata": {},
     "output_type": "execute_result"
    }
   ],
   "source": [
    "magic_step"
   ]
  },
  {
   "cell_type": "code",
   "execution_count": 34,
   "metadata": {},
   "outputs": [
    {
     "data": {
      "text/plain": [
       "104070862"
      ]
     },
     "execution_count": 34,
     "metadata": {},
     "output_type": "execute_result"
    }
   ],
   "source": [
    "min([convert_chain(parsed_data, x) for x in range(magic_x - magic_step, magic_x + magic_step)])"
   ]
  },
  {
   "cell_type": "code",
   "execution_count": 35,
   "metadata": {},
   "outputs": [
    {
     "data": {
      "text/plain": [
       "True"
      ]
     },
     "execution_count": 35,
     "metadata": {},
     "output_type": "execute_result"
    }
   ],
   "source": [
    "in_solutions(magic_x,intervals=intervals)"
   ]
  },
  {
   "cell_type": "code",
   "execution_count": null,
   "metadata": {},
   "outputs": [],
   "source": []
  }
 ],
 "metadata": {
  "kernelspec": {
   "display_name": "Python 3",
   "language": "python",
   "name": "python3"
  },
  "language_info": {
   "codemirror_mode": {
    "name": "ipython",
    "version": 3
   },
   "file_extension": ".py",
   "mimetype": "text/x-python",
   "name": "python",
   "nbconvert_exporter": "python",
   "pygments_lexer": "ipython3",
   "version": "3.10.12"
  }
 },
 "nbformat": 4,
 "nbformat_minor": 2
}
