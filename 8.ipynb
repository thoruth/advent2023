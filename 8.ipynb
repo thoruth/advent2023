{
 "cells": [
  {
   "cell_type": "code",
   "execution_count": 199,
   "metadata": {},
   "outputs": [],
   "source": [
    "\n",
    "txt = \"8.live.txt\"\n",
    "# txt = \"8.test.txt\"\n",
    "with open(txt, \"r\") as f:\n",
    "    input_text = f.read()\n",
    "\n",
    "data = input_text.split('\\n')\n",
    "\n",
    "commands = [0 if x=='L' else 1 for x in data[0]]\n",
    "rules = data[2:]\n"
   ]
  },
  {
   "cell_type": "code",
   "execution_count": 200,
   "metadata": {},
   "outputs": [],
   "source": [
    "def create_rules(row):\n",
    "\n",
    "    rule = row.replace('(', '').replace(')', '').replace(' ', '')\n",
    "    head_tail = rule.split('=')\n",
    "    state = head_tail[0]\n",
    "    left, right = head_tail[1].split(',')\n",
    "    return state, (left, right)\n",
    "\n",
    "\n",
    "statem = {}\n",
    "for row in rules:\n",
    "    state, rule = create_rules(row)\n",
    "    statem[state] = rule\n",
    "\n",
    "\n",
    "START = 'AAA'\n",
    "\n",
    "END = 'ZZZ'\n",
    "\n",
    "\n"
   ]
  },
  {
   "cell_type": "code",
   "execution_count": null,
   "metadata": {},
   "outputs": [],
   "source": []
  },
  {
   "cell_type": "code",
   "execution_count": 201,
   "metadata": {},
   "outputs": [
    {
     "name": "stdout",
     "output_type": "stream",
     "text": [
      "10000\n",
      "20000\n"
     ]
    },
    {
     "data": {
      "text/plain": [
       "22357"
      ]
     },
     "execution_count": 201,
     "metadata": {},
     "output_type": "execute_result"
    }
   ],
   "source": [
    "current_state = START\n",
    "\n",
    "found = False\n",
    "steps = 0\n",
    "while not found:\n",
    "    for command in commands:\n",
    "        steps += 1\n",
    "        current_state = statem[current_state][command]\n",
    "        if current_state==END:\n",
    "            found = True\n",
    "            break\n",
    "        if steps % 10000 ==0:\n",
    "            print(steps)\n",
    "steps"
   ]
  },
  {
   "cell_type": "markdown",
   "metadata": {},
   "source": [
    "second part"
   ]
  },
  {
   "cell_type": "code",
   "execution_count": null,
   "metadata": {},
   "outputs": [],
   "source": []
  },
  {
   "cell_type": "code",
   "execution_count": 202,
   "metadata": {},
   "outputs": [],
   "source": [
    "def is_end(allstates):\n",
    "    for idx,state in enumerate(allstates):\n",
    "        if state[2] != 'Z':\n",
    "            return False, idx\n",
    "    return True, idx"
   ]
  },
  {
   "cell_type": "code",
   "execution_count": 203,
   "metadata": {},
   "outputs": [
    {
     "data": {
      "text/plain": [
       "['GNA', 'FCA', 'AAA', 'MXA', 'VVA', 'XHA']"
      ]
     },
     "execution_count": 203,
     "metadata": {},
     "output_type": "execute_result"
    }
   ],
   "source": [
    "all_states = [ x for x in statem.keys() if x[2] =='A' ]\n",
    "\n",
    "all_states"
   ]
  },
  {
   "cell_type": "code",
   "execution_count": 204,
   "metadata": {},
   "outputs": [
    {
     "name": "stdout",
     "output_type": "stream",
     "text": [
      "1000 3\n",
      "2000 7\n",
      "3000 10\n",
      "4000 14\n",
      "5000 17\n",
      "6000 21\n",
      "7000 24\n",
      "8000 28\n",
      "9000 31\n",
      "10000 35\n",
      "11000 38\n",
      "12000 42\n",
      "13000 45\n",
      "14000 49\n",
      "15000 53\n",
      "16000 56\n",
      "17000 60\n",
      "18000 63\n",
      "19000 67\n",
      "20000 70\n",
      "21000 74\n",
      "22000 77\n"
     ]
    },
    {
     "data": {
      "text/plain": [
       "22357"
      ]
     },
     "execution_count": 204,
     "metadata": {},
     "output_type": "execute_result"
    }
   ],
   "source": [
    "found = False\n",
    "steps = 0\n",
    "state_size =len(all_states)\n",
    "command_cnt = 0\n",
    "count_for_each = [0 for _ in range(len(all_states))]\n",
    "while not found:\n",
    "    for command in commands:\n",
    "        steps += 1\n",
    "        for idx in range(state_size):\n",
    "            if all_states[idx][2] != 'Z':\n",
    "                count_for_each[idx] += 1\n",
    "                all_states[idx] = statem[all_states[idx]][command]\n",
    "            else:\n",
    "                pass\n",
    "        cond, error_idx = is_end(all_states)\n",
    "        if cond:\n",
    "            found = True\n",
    "            break\n",
    "        if steps % 1000 ==0:\n",
    "            print(steps,command_cnt)\n",
    "    command_cnt += 1\n",
    "steps"
   ]
  },
  {
   "cell_type": "code",
   "execution_count": 206,
   "metadata": {},
   "outputs": [
    {
     "data": {
      "text/plain": [
       "[20093, 12169, 22357, 14999, 13301, 17263]"
      ]
     },
     "execution_count": 206,
     "metadata": {},
     "output_type": "execute_result"
    }
   ],
   "source": [
    "count_for_each"
   ]
  },
  {
   "cell_type": "code",
   "execution_count": 205,
   "metadata": {},
   "outputs": [
    {
     "data": {
      "text/plain": [
       "10371555451871"
      ]
     },
     "execution_count": 205,
     "metadata": {},
     "output_type": "execute_result"
    }
   ],
   "source": [
    "from math import lcm\n",
    "lcm(*count_for_each)"
   ]
  },
  {
   "cell_type": "code",
   "execution_count": null,
   "metadata": {},
   "outputs": [],
   "source": []
  }
 ],
 "metadata": {
  "kernelspec": {
   "display_name": "Python 3",
   "language": "python",
   "name": "python3"
  },
  "language_info": {
   "codemirror_mode": {
    "name": "ipython",
    "version": 3
   },
   "file_extension": ".py",
   "mimetype": "text/x-python",
   "name": "python",
   "nbconvert_exporter": "python",
   "pygments_lexer": "ipython3",
   "version": "3.10.12"
  }
 },
 "nbformat": 4,
 "nbformat_minor": 2
}
